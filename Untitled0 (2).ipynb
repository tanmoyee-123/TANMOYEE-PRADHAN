{
  "nbformat": 4,
  "nbformat_minor": 0,
  "metadata": {
    "colab": {
      "provenance": [],
      "toc_visible": true
    },
    "kernelspec": {
      "name": "python3",
      "display_name": "Python 3"
    },
    "language_info": {
      "name": "python"
    }
  },
  "cells": [
    {
      "cell_type": "code",
      "execution_count": null,
      "metadata": {
        "id": "MWFqz2HbGxWX"
      },
      "outputs": [],
      "source": []
    },
    {
      "cell_type": "markdown",
      "source": [
        "** What are data structures, and why are they important?**\n",
        "\n",
        ". In Python, data structures refer to the ways in which data is organized, stored, and manipulated in a program. These structures are implemented through built-in Python collections or can be defined using custom classes.\n",
        "\n"
      ],
      "metadata": {
        "id": "qZs4UXHfGzMm"
      }
    },
    {
      "cell_type": "markdown",
      "source": [
        "Why They Are Important ?\n",
        ".Different data structures optimize specific operations. Python's built-in data structures are optimized for common tasks like searching, inserting, deleting, and iterating over data.\n",
        ".Python’s built-in data structures are optimized for memory usage, allowing for efficient storage and retrieval of data.\n",
        ".Data structures allow Python developers to solve real-world problems efficiently.\n"
      ],
      "metadata": {
        "id": "CdD8_Maq3OCZ"
      }
    },
    {
      "cell_type": "markdown",
      "source": [
        " Q2- Explain the difference between mutable and immutable data types with examples.\n",
        "1. Mutable Data Types- A mutable data type is one where the value or contents of the object can be changed after the object has been created. In other words, mutable objects can be modified in place.\n",
        "2.Some of the mutable data types in python are- lists,dictionaries,sets, etc.\n",
        "\n",
        "\n",
        "\n",
        "\n"
      ],
      "metadata": {
        "id": "Kykd_ud94U2M"
      }
    },
    {
      "cell_type": "markdown",
      "source": [
        "**bold text**"
      ],
      "metadata": {
        "id": "vSSGnXzW5gkZ"
      }
    },
    {
      "cell_type": "code",
      "source": [
        "#example of mutable data types-\n",
        "# Lists (mutable)\n",
        "my_list = [1, 2, 3]\n",
        "print(my_list)\n",
        "# Modify list\n",
        "my_list.append(4)\n",
        "my_list[0] = 10\n",
        "print(my_list)\n",
        "[1, 2, 3]\n",
        "[10, 2, 3, 4]\n",
        "\n",
        "\n",
        "\n"
      ],
      "metadata": {
        "id": "_y-t4ZKJ5uqh"
      },
      "execution_count": null,
      "outputs": []
    },
    {
      "cell_type": "markdown",
      "source": [
        "3.Immutable Data Types- An immutable data type is one where the value or contents cannot be changed once the object is created. If you attempt to modify the value, a new object is created instead of modifying the original.\n",
        "4.Some of the immutable data types in python are- tuples, integer, strings, etc.\n"
      ],
      "metadata": {
        "id": "VvAuqzwy6BS6"
      }
    },
    {
      "cell_type": "code",
      "source": [
        "# Tuples (immutable)\n",
        "my_tuple = (1, 2, 3)\n",
        "print(my_tuple)  # Output: (1, 2, 3)\n",
        "my_tuple[0] = 10\n",
        "(1, 2, 3)\n",
        "\n",
        "---------------------------------------------------------------------------\n",
        "TypeError                                 Traceback (most recent call last)\n",
        "<ipython-input-3-883f8b4e88a2> in <cell line: 4>()\n",
        " 2 my_tuple = (1, 2, 3)\n",
        "      3 print(my_tuple)  # Output: (1, 2, 3)\n",
        "----> 4 my_tuple[0] = 10\n",
        "TypeError: 'tuple' object does not support item assignment\n",
        "\n"
      ],
      "metadata": {
        "id": "bAthb3cd6J5i"
      },
      "execution_count": null,
      "outputs": []
    },
    {
      "cell_type": "markdown",
      "source": [
        "Q3- What are the main differences between lists and tuples in Python?\n",
        "\n",
        ".Lists are mutable and suitable for data that may change.\n",
        ".Tuples are immutable and efficient for fixed collections of data.\n",
        ".Examples Given Below-\n"
      ],
      "metadata": {
        "id": "88sLEHKD8JFE"
      }
    },
    {
      "cell_type": "markdown",
      "source": [],
      "metadata": {
        "id": "1C2pebId7Q8m"
      }
    },
    {
      "cell_type": "code",
      "source": [
        "#example of mutable data types-\n",
        "# Lists (mutable)\n",
        "my_list = [1, 2, 3]\n",
        "print(my_list)\n",
        "\n",
        "# Modify list\n",
        "my_list.append(4)\n",
        "my_list[0] = 10\n",
        "print(my_list)\n",
        "\n",
        "[1, 2, 3]\n",
        "[10, 2, 3, 4]\n"
      ],
      "metadata": {
        "id": "PEl5gFxE62K3"
      },
      "execution_count": null,
      "outputs": []
    },
    {
      "cell_type": "code",
      "source": [],
      "metadata": {
        "id": "GxVnbW8A82xD"
      },
      "execution_count": null,
      "outputs": []
    },
    {
      "cell_type": "code",
      "source": [
        "#example of immutable data types-\n",
        "# Tuples (immutable)\n",
        "my_tuple = (1, 2, 3)\n",
        "print(my_tuple)  # Output: (1, 2, 3)\n",
        "my_tuple[0] = 10\n",
        "\n",
        "(1, 2, 3)\n",
        "---------------------------------------------------------------------------\n",
        "TypeError                                 Traceback (most recent call last)\n",
        "<ipython-input-3-0a854ebf2035> in <cell line: 5>()\n",
        "      3 my_tuple = (1, 2, 3)\n",
        "      4 print(my_tuple)  # Output: (1, 2, 3)\n",
        "----> 5 my_tuple[0] = 10\n",
        "TypeError: 'tuple' object does not support item assignment\n"
      ],
      "metadata": {
        "id": "IzQjmEpF83GG"
      },
      "execution_count": null,
      "outputs": []
    },
    {
      "cell_type": "markdown",
      "source": [
        "Q4- Describe how dictionaries store data.\n",
        "\n",
        ".Python dictionaries are unordered collections of key-value pairs, where each key is unique and maps to a specific value. They are implemented using a hash table internally, which allows for fast lookups, insertions, and deletions.\n",
        "#example\n",
        "my_dict = {'name': 'Alice', 'age': 25}\n",
        ".Key: 'name', Value: 'Alice'\n",
        ".Key: 'age', Value: 25\n",
        "\n"
      ],
      "metadata": {
        "id": "cqcNU9eW9UZt"
      }
    },
    {
      "cell_type": "markdown",
      "source": [
        "# New Section"
      ],
      "metadata": {
        "id": "omiFDKBFh-6N"
      }
    },
    {
      "cell_type": "code",
      "source": [
        "from google.colab import drive\n",
        "drive.mount('/content/drive')"
      ],
      "metadata": {
        "id": "Iod9txA1iSlJ"
      },
      "execution_count": null,
      "outputs": []
    },
    {
      "cell_type": "markdown",
      "source": [],
      "metadata": {
        "id": "FjGx1w_95tp6"
      }
    },
    {
      "cell_type": "markdown",
      "source": [
        "Q5- Why might you use a set instead of a list in Python?\n",
        "\n",
        ".Uniqueness: When you need to ensure that elements are unique.\n",
        ".Performance: When you need fast membership testing or set operations (union, intersection, etc.).\n",
        ".Set operations: When you need efficient mathematical operations like union, intersection, or difference.\n",
        ".Unordered collections: When the order of elements does not matter.\n"
      ],
      "metadata": {
        "id": "jf_nR7VJ9t4g"
      }
    },
    {
      "cell_type": "markdown",
      "source": [
        "Q6- What is a string in Python, and how is it different from a list?\n",
        "\n",
        ".In Python, a string is a sequence of characters enclosed in either single quotes (') or double quotes (\"). Strings are a built-in data type used to store text data, and they are immutable, meaning that their contents cannot be changed after they are created.\n",
        ". A list is an ordered collection of items, which can be of any data type (including numbers, strings, or other lists). Lists are mutable, meaning you can change, add, or remove elements after the list is created.\n",
        ". The key difference between them is that a string is immutable but a list is mutable.\n"
      ],
      "metadata": {
        "id": "fdg-RFPh9-AH"
      }
    },
    {
      "cell_type": "markdown",
      "source": [
        "Q7- How do tuples ensure data integrity in Python?\n",
        "\n",
        ". Tuples ensure data integrity in Python by being immutable—once created, their contents cannot be changed. This prevents accidental modifications, guarantees consistent data, and allows tuples to be safely used as dictionary keys or set elements. Their immutability also helps maintain data integrity in multi-threaded environments, as the data can't be altered unexpectedly.\n"
      ],
      "metadata": {
        "id": "DYLtHgzh-OHP"
      }
    },
    {
      "cell_type": "markdown",
      "source": [
        "Q8- What is a hash table, and how does it relate to dictionaries in Python?\n",
        "\n",
        ". A hash table is a data structure that stores key-value pairs, using a hash function to map keys to specific indices for fast lookups.\n",
        ".  Python dictionaries (dict) are implemented as hash tables, where the keys are hashed, and values are stored at the computed index, allowing efficient operations like insertion, deletion, and lookup (usually O(1) time).\n"
      ],
      "metadata": {
        "id": "7mjfY4fG-WiD"
      }
    },
    {
      "cell_type": "code",
      "source": [],
      "metadata": {
        "id": "yLdqLNeq3Ngt"
      },
      "execution_count": null,
      "outputs": []
    },
    {
      "cell_type": "markdown",
      "source": [
        "Q9- Can lists contain different data types in Python?\n",
        "\n",
        ". Yes, a Python list can contain different data types. It is heterogeneous, meaning it can store elements of various types, such as integers, strings, floats, and booleans, in the same list.\n"
      ],
      "metadata": {
        "id": "DleXCIeW-jaQ"
      }
    },
    {
      "cell_type": "markdown",
      "source": [
        "Q10- Explain why strings are immutable in Python.\n",
        "\n",
        ".  Strings in Python are immutable because their content cannot be changed after creation. This ensures better performance, memory efficiency, and data consistency. It also allows strings to be hashable, enabling their use as dictionary keys or set elements.\n",
        "\n",
        "\n",
        "\n"
      ],
      "metadata": {
        "id": "IkLKcvCz-oRV"
      }
    },
    {
      "cell_type": "markdown",
      "source": [
        "Q11- What advantages do dictionaries offer over lists for certain tasks?\n",
        "\n",
        "*Dictionaries offer advantages over lists for tasks that require fast lookups (O(1) time), key-value pairing, and ensuring unique keys. They are more efficient for tasks involving quick access by key, like storing user profiles or settings, while lists are better suited for maintaining ordered collections.\n",
        "*Example Use Case:\n",
        "*Dictionaries: Store user profiles, settings, or configurations where fast access by a unique key (e.g., user ID, setting name) is needed.\n",
        "*Lists: Best suited for ordered collections or tasks where you need to maintain the order of elements.\n",
        "*In summary, dictionaries are more efficient for tasks that require fast lookups, key-value associations, and uniqueness, while lists are better for maintaining ordered collections.\n",
        "\n",
        "\n"
      ],
      "metadata": {
        "id": "4kLTF92q-xfW"
      }
    },
    {
      "cell_type": "markdown",
      "source": [
        "Q12- How do sets handle duplicate values in Python?\n",
        "\n",
        "*In Python, sets automatically remove duplicate values. A set is an unordered collection of unique elements, meaning that if you try to add a duplicate value, it will be ignored.\n",
        "Example:\n",
        "\n",
        "my_set = {1, 2, 3, 3, 4, 5, 5}\n",
        "print(my_set)\n",
        "Output:\n",
        "\n",
        "{1, 2, 3, 4, 5}\n",
        "\n",
        "In this example, the duplicates 3 and 5 are removed when the set is created. Sets ensure that only one instance of each value is stored.\n",
        "\n"
      ],
      "metadata": {
        "id": "xup80ERy_Lc0"
      }
    },
    {
      "cell_type": "markdown",
      "source": [
        "Q13- Describe a scenario where using a tuple would be preferable over a list.\n",
        "\n",
        "*A tuple would be preferable over a list in scenarios where you need immutable data or when the data should remain unchanged throughout the program. Specifically:\n",
        "\n",
        "*Scenario: Storing fixed configuration values or coordinates Imagine you are working with a set of geographical coordinates (latitude, longitude, altitude) or a configuration setting that should not change once set.\n",
        "\n",
        "In this case, a tuple is ideal because:\n",
        "\n",
        "*The coordinates represent fixed, unchanging data. The tuple’s immutability prevents accidental modification, which could lead to errors or inconsistent behavior.\n",
        "Why not a list?\n",
        "\n",
        "*If a list were used, the coordinates could be modified (e.g., accidentally changing the longitude), which is undesirable in this context.\n"
      ],
      "metadata": {
        "id": "Y7EMy7Vh_kmn"
      }
    },
    {
      "cell_type": "markdown",
      "source": [
        "Q14- How does the “in” keyword work differently for lists and dictionaries?\n",
        "\n",
        "*The in keyword works differently for lists and dictionaries in Python:\n",
        "\n",
        "*For lists: It checks if a value exists in the list.\n",
        "\n",
        "*Example: 3 in [1, 2, 3, 4] returns True, because 3 is an element in the list.\n",
        "\n",
        "*For dictionaries: It checks if a key exists in the dictionary, not the value.\n",
        "\n",
        "*Example: 'name' in {'name': 'Alice', 'age': 30} returns True, because 'name' is a key in the dictionary.\n",
        "\n"
      ],
      "metadata": {
        "id": "biez0Kf9_2ku"
      }
    },
    {
      "cell_type": "markdown",
      "source": [
        "Q15- Can you modify the elements of a tuple? Explain why or why not?\n",
        "\n",
        "*No, you cannot modify the elements of a tuple in Python because tuples are immutable. Once a tuple is created, its elements cannot be changed, added, or removed.\n",
        "Why not?\n",
        "\n",
        "*Immutability: The primary reason is that tuples are designed to be immutable to ensure data integrity. This means that once the tuple is created, its structure and contents are fixed and cannot be altered, which prevents accidental modifications.\n"
      ],
      "metadata": {
        "id": "9IKBj6yjAIqG"
      }
    },
    {
      "cell_type": "markdown",
      "source": [
        "Q16- What is a nested dictionary, and give an example of its use case.\n",
        "\n",
        "*A nested dictionary is a dictionary where the values are themselves dictionaries. This allows you to represent more complex, hierarchical data structures.\n",
        "Use Case:\n",
        "\n",
        "*A common use case for a nested dictionary is representing data that naturally fits into a hierarchical structure, such as a school database or employee records.\n",
        "Example: Accessing data from a nested dictionary:\n",
        "\n"
      ],
      "metadata": {
        "id": "nILISTtJAUiw"
      }
    },
    {
      "cell_type": "code",
      "source": [
        "Get Bob's major\n",
        "print(students[\"Bob\"][\"major\"])  # Output: Math\n",
        "Get Alice's age\n",
        "print(students[\"Alice\"][\"age\"])  # Output: 22\n"
      ],
      "metadata": {
        "id": "a6JB6mrWAg7J"
      },
      "execution_count": null,
      "outputs": []
    },
    {
      "cell_type": "markdown",
      "source": [
        "Q17- Describe the time complexity of accessing elements in a dictionary.\n",
        "\n",
        "*The time complexity of accessing elements in a Python dictionary is O(1) on average, thanks to hashing. This means retrieving a value by its key is done in constant time. In rare cases, it can degrade to O(n) due to hash collisions.\n"
      ],
      "metadata": {
        "id": "a4wlzlkIAo--"
      }
    },
    {
      "cell_type": "markdown",
      "source": [
        "Q18- In what situations are lists preferred over dictionaries?\n",
        "\n",
        "*Lists are preferred over dictionaries in the following situations:\n",
        "\n",
        "*Maintaining Order: When the order of elements matters, as lists are ordered collections while dictionaries (prior to Python 3.7) are unordered.\n",
        "\n",
        "*Index-Based Access: When you need to access elements by position/index rather than by key, as lists use numerical indices for access.\n",
        "\n"
      ],
      "metadata": {
        "id": "nhgrXwlZAwmg"
      }
    },
    {
      "cell_type": "markdown",
      "source": [
        "Q19- Why are dictionaries considered unordered, and how does that affect data retrieval?\n",
        "\n",
        "*Dictionaries in Python were unordered before version 3.7 due to their hash table implementation, meaning the order of items was not guaranteed. Starting with Python 3.7, dictionaries preserve insertion order, but data is still retrieved by key, and retrieval remains efficient (O(1)average).\n",
        "\n",
        "*Effect on Data Retrieval:\n",
        "\n",
        "Pre-3.7 (Unordered): You cannot rely on the order of elements in a dictionary when retrieving data, as the order is not guaranteed.\n",
        "\n",
        "my_dict = {\"a\": 1, \"b\": 2, \"c\": 3}\n",
        "# Order of keys might not be the same as insertion\n",
        "Post-3.7 (Ordered): The insertion order is preserved, but this does not affect how you retrieve data. You still access data by key, and retrieval is efficient (O(1) on average), but now the order of elements is predictable.\n",
        "\n",
        "\n",
        "\n",
        "my_dict = {\"a\": 1, \"b\": 2, \"c\": 3}\n",
        "# Insertion order is maintained:\n",
        "print(my_dict)  # Output: {'a': 1, 'b': 2, 'c': 3}\n",
        "\n",
        "\n",
        "\n",
        "\n"
      ],
      "metadata": {
        "id": "BM50sZ4MA_hr"
      }
    },
    {
      "cell_type": "markdown",
      "source": [
        "Q20- Explain the difference between a list and a dictionary in terms of data retrieval.\n",
        "\n",
        "*The difference between a list and a dictionary in terms of data retrieval is:\n",
        "\n",
        "*List: Data is retrieved by index (position). Lists are ordered collections, and you access elements by their numeric index, starting from 0. Retrieval time is O(1) for accessing an element by index.\n",
        "\n",
        "* Dictionary: Data is retrieved by key. Dictionaries store key-value pairs, and you access values using unique keys. Retrieval time is O(1) on average for accessing values by key due to hashing.\n",
        "\n",
        "\n",
        "\n",
        "\n",
        "\n",
        "\n",
        "\n",
        "\n",
        "\n",
        "\n",
        "\n"
      ],
      "metadata": {
        "id": "iYfXI6BKBcb1"
      }
    },
    {
      "cell_type": "markdown",
      "source": [
        "Data Types and Structures Practical Questions\n",
        "\n",
        "Q1- Write a code to create a string with your name and print it.\n",
        "\n"
      ],
      "metadata": {
        "id": "RYecTBDWCZIX"
      }
    },
    {
      "cell_type": "code",
      "source": [
        "str_1=\"Tanmoyee\"\n",
        "print(str_1)\n",
        "\n",
        "\n",
        "Tanmoyee\n"
      ],
      "metadata": {
        "id": "HmRZEnQDCgX3"
      },
      "execution_count": null,
      "outputs": []
    },
    {
      "cell_type": "markdown",
      "source": [
        "Q2- Write a code to find the length of the string \"Hello World\".\n",
        "\n"
      ],
      "metadata": {
        "id": "5Bvg6_HOCw1X"
      }
    },
    {
      "cell_type": "code",
      "source": [
        "str_2=\"Hello World\"\n",
        "len(str_2)\n",
        "11"
      ],
      "metadata": {
        "id": "oH_4ss2bCsn5"
      },
      "execution_count": null,
      "outputs": []
    },
    {
      "cell_type": "markdown",
      "source": [
        "Q3- Write a code to slice the first 3 characters from the string \"Python Programming\".\n",
        "\n"
      ],
      "metadata": {
        "id": "PI9z8jTgC-rG"
      }
    },
    {
      "cell_type": "code",
      "source": [
        "str_3=\"Python Programming\"\n",
        "str_3[:3]\n",
        "'Pyt'\n"
      ],
      "metadata": {
        "id": "0JZHzuQhC_px"
      },
      "execution_count": null,
      "outputs": []
    },
    {
      "cell_type": "markdown",
      "source": [
        "Q4- Write a code to convert the string \"hello\" to uppercase.\n",
        "\n"
      ],
      "metadata": {
        "id": "He75W8boDI89"
      }
    },
    {
      "cell_type": "code",
      "source": [
        "str_4=\"hello\"\n",
        "str_4.upper()\n",
        "'HELLO'\n"
      ],
      "metadata": {
        "id": "zmGk_rq6DJ0l"
      },
      "execution_count": null,
      "outputs": []
    },
    {
      "cell_type": "markdown",
      "source": [
        "Q5- Write a code to replace the word \"apple\" with \"orange\" in the string \"I like apple\".\n",
        "\n"
      ],
      "metadata": {
        "id": "ciINtRbTDTFh"
      }
    },
    {
      "cell_type": "code",
      "source": [
        "str_5=\"I like apple\"\n",
        "str_5.replace(\"apple\",\"orange\")\n",
        "'I like orange'\n"
      ],
      "metadata": {
        "id": "3VXQZOI9DT_r"
      },
      "execution_count": null,
      "outputs": []
    },
    {
      "cell_type": "markdown",
      "source": [
        "Q6- Write a code to create a list with numbers 1 to 5 and print it.\n",
        "\n"
      ],
      "metadata": {
        "id": "OWr0tfvzDdcz"
      }
    },
    {
      "cell_type": "code",
      "source": [
        "list_1= [1,2,3,4,5]\n",
        "print(list_1)\n",
        "[1, 2, 3, 4, 5]\n"
      ],
      "metadata": {
        "id": "GxDwSREiDeTp"
      },
      "execution_count": null,
      "outputs": []
    },
    {
      "cell_type": "markdown",
      "source": [
        "Q7- Write a code to append the number 10 to the list [1, 2, 3, 4].\n",
        "\n"
      ],
      "metadata": {
        "id": "7xg1HJSGDmnt"
      }
    },
    {
      "cell_type": "code",
      "source": [
        "list_2=[1,2,3,4]\n",
        "print(\"List before adding 10\")\n",
        "print(list_2)\n",
        "list_2.append(10)\n",
        "print(\"List after adding 10\")\n",
        "print(list_2)\n",
        "List before adding 10\n",
        "[1, 2, 3, 4]\n",
        "List after adding 10\n",
        "[1, 2, 3, 4, 10]\n"
      ],
      "metadata": {
        "id": "Oo9ib5zaDnfl"
      },
      "execution_count": null,
      "outputs": []
    },
    {
      "cell_type": "markdown",
      "source": [
        "Q8- Write a code to remove the number 3 from the list [1, 2, 3, 4, 5].\n",
        "\n"
      ],
      "metadata": {
        "id": "i7lIz-KjD86Y"
      }
    },
    {
      "cell_type": "code",
      "source": [
        "list_3=[1,2,3,4,5]\n",
        "print(\"List before removing 3\")\n",
        "print(list_3)\n",
        "print(\"List after removing 3\")\n",
        "list_3.remove(3)\n",
        "print(list_3)\n",
        "List before removing 3\n",
        "[1, 2, 3, 4, 5]\n",
        "List after removing 3\n",
        "[1, 2, 4, 5]\n"
      ],
      "metadata": {
        "id": "AjcCf3ivD9lB"
      },
      "execution_count": null,
      "outputs": []
    },
    {
      "cell_type": "markdown",
      "source": [
        "Q9- Write a code to access the second element in the list ['a', 'b', 'c', 'd'].\n",
        "\n"
      ],
      "metadata": {
        "id": "yvdnJc_iEXgi"
      }
    },
    {
      "cell_type": "code",
      "source": [
        "list_4=[\"a\",\"b\",\"c\",\"d\"]\n",
        "print(\"The Second Element the\",list_4,\"is-\")\n",
        "list_4[1]\n",
        "The Second Element the ['a', 'b', 'c', 'd'] is-\n",
        "'b'\n"
      ],
      "metadata": {
        "id": "VYINIW_7EYZY"
      },
      "execution_count": null,
      "outputs": []
    },
    {
      "cell_type": "markdown",
      "source": [
        "Q10- Write a code to reverse the list [10, 20, 30, 40, 50].\n",
        "\n"
      ],
      "metadata": {
        "id": "8C_L-P8-Elys"
      }
    },
    {
      "cell_type": "code",
      "source": [
        "list_5=[10,20,30,40,50]\n",
        "list_5.reverse()\n",
        "print(\"The reversed list is-\")\n",
        "print(list_5)\n",
        "The reversed list is-\n",
        "[50, 40, 30, 20, 10]\n"
      ],
      "metadata": {
        "id": "gid5-1y5EmoC"
      },
      "execution_count": null,
      "outputs": []
    },
    {
      "cell_type": "markdown",
      "source": [
        "Q11- Write a code to create a tuple with the elements 10, 20, 30 and print it.\n",
        "\n"
      ],
      "metadata": {
        "id": "2XeQlPhZNRC-"
      }
    },
    {
      "cell_type": "code",
      "source": [
        "tuple_1=(10,20,30)\n",
        "print(tuple_1)\n",
        "(10, 20, 30)\n"
      ],
      "metadata": {
        "id": "zJm_KLPYNXVM"
      },
      "execution_count": null,
      "outputs": []
    },
    {
      "cell_type": "markdown",
      "source": [
        "Q12- Write a code to access the first element of the tuple ('apple', 'banana', 'cherry').\n",
        "\n"
      ],
      "metadata": {
        "id": "09TIztAXP6Qs"
      }
    },
    {
      "cell_type": "code",
      "source": [
        "tuple_2=('apple','banana','cherry')\n",
        "print(\"The First Element of the tuple is-\")\n",
        "tuple_2[0]\n",
        "The First Element of the tuple is-\n",
        "'apple'\n"
      ],
      "metadata": {
        "id": "PIylNKD3P7m3"
      },
      "execution_count": null,
      "outputs": []
    },
    {
      "cell_type": "markdown",
      "source": [
        "Q13- Write a code to count how many times the number 2 appears in the tuple (1, 2, 3, 2, 4, 2).\n",
        "\n"
      ],
      "metadata": {
        "id": "nlUsNVKHQcQg"
      }
    },
    {
      "cell_type": "code",
      "source": [
        "tuple_3=(1,2,3,2,4,2)\n",
        "print(\"The count of 2 in the tuple is-\")\n",
        "tuple_3.count(2)\n",
        "The count of 2 in the tuple is-\n",
        "3\n"
      ],
      "metadata": {
        "id": "FGGpUw_1QdUn"
      },
      "execution_count": null,
      "outputs": []
    },
    {
      "cell_type": "markdown",
      "source": [
        "Q14- Write a code to find the index of the element \"cat\" in the tuple ('dog', 'cat', 'rabbit').\n",
        "\n"
      ],
      "metadata": {
        "id": "B9LNYZqrQn9Z"
      }
    },
    {
      "cell_type": "code",
      "source": [
        "tuple_4=('dog','cat','rabbit')\n",
        "print(\"The index of cat is-\")\n",
        "tuple_4.index('cat')\n",
        "1\n",
        "\n",
        "\n"
      ],
      "metadata": {
        "id": "ofmVGv2MQrof"
      },
      "execution_count": null,
      "outputs": []
    },
    {
      "cell_type": "markdown",
      "source": [
        "Q15- Write a code to check if the element \"banana\" is in the tuple ('apple', 'orange', 'banana').\n",
        "\n"
      ],
      "metadata": {
        "id": "FEk00equSM-3"
      }
    },
    {
      "cell_type": "code",
      "source": [
        "tuple_5=('apple','orange','banana')\n",
        "print(\"banana\" in tuple_5)\n",
        "True\n"
      ],
      "metadata": {
        "id": "J2Jf06vzSP-l"
      },
      "execution_count": null,
      "outputs": []
    },
    {
      "cell_type": "markdown",
      "source": [
        "Q16- Write a code to create a set with the elements 1, 2, 3, 4, 5 and print it.\n",
        "\n"
      ],
      "metadata": {
        "id": "UOz-tYlOSZwN"
      }
    },
    {
      "cell_type": "code",
      "source": [
        "set_1={1,2,3,4,5}\n",
        "print(set_1)\n",
        "{1, 2, 3, 4, 5}\n"
      ],
      "metadata": {
        "id": "T81NFK3BSah5"
      },
      "execution_count": null,
      "outputs": []
    },
    {
      "cell_type": "markdown",
      "source": [
        "Q17- Write a code to add the element 6 to the set {1, 2, 3, 4}.\n",
        "\n"
      ],
      "metadata": {
        "id": "hfIu_WNwSiEN"
      }
    },
    {
      "cell_type": "code",
      "source": [
        "set_2={1,2,3,4}\n",
        "set_2.add(6)\n",
        "print(\"Set after adding 6\")\n",
        "print(set_2)\n",
        "\n",
        "\n",
        "Set after adding 6\n",
        "{1, 2, 3, 4, 6}\n"
      ],
      "metadata": {
        "id": "8GkqY5ZLSmQ5"
      },
      "execution_count": null,
      "outputs": []
    },
    {
      "cell_type": "markdown",
      "source": [
        "Q18- Write a code to create a tuple with the elements 10, 20, 30 and print it.\n",
        "\n"
      ],
      "metadata": {
        "id": "eIuV596ISy79"
      }
    },
    {
      "cell_type": "code",
      "source": [
        "tuple_1=(10,20,30)\n",
        "print(tuple_1)\n"
      ],
      "metadata": {
        "id": "BcsGO-alS1pQ"
      },
      "execution_count": null,
      "outputs": []
    },
    {
      "cell_type": "markdown",
      "source": [
        "(10, 20, 30)\n",
        "Q19- Write a code to access the first element of the tuple ('apple', 'banana', 'cherry').\n",
        "\n"
      ],
      "metadata": {
        "id": "DafJqVtXS51M"
      }
    },
    {
      "cell_type": "code",
      "source": [
        "tuple_2=('apple','banana','cherry')\n",
        "print(\"The First Element of the tuple is-\")\n",
        "tuple_2[0]\n"
      ],
      "metadata": {
        "id": "7a91uRnWS_AN"
      },
      "execution_count": null,
      "outputs": []
    },
    {
      "cell_type": "markdown",
      "source": [
        "The First Element of the tuple is-\n",
        "'apple'\n",
        "\n",
        "\n",
        "\n",
        "\n",
        "Q20- Write a code to count how many times the number 2 appears in the tuple (1, 2, 3, 2, 4, 2).\n",
        "\n"
      ],
      "metadata": {
        "id": "TWDw_KdMTLrQ"
      }
    },
    {
      "cell_type": "code",
      "source": [
        "tuple_3=(1,3,2,4,2)\n",
        "print(\"The count of 2 in the tuple is-\")\n",
        "tuple_3.count(2)\n"
      ],
      "metadata": {
        "id": "hPm6H-zvTRZP"
      },
      "execution_count": null,
      "outputs": []
    },
    {
      "cell_type": "markdown",
      "source": [
        "The count of 2 in the tuple is-\n",
        "2\n",
        "\n",
        "\n",
        "\n",
        "\n",
        "\n",
        "Q21- Write a code to find the index of the element \"cat\" in the tuple ('dog', 'cat', 'rabbit').\n",
        "\n"
      ],
      "metadata": {
        "id": "4vz2QfWpTY96"
      }
    },
    {
      "cell_type": "code",
      "source": [
        "tuple_4=('dog','cat','rabbit')\n",
        "print(\"The index of cat is-\")\n",
        "tuple_4.index('cat')\n"
      ],
      "metadata": {
        "id": "pIyzjol3Te6I"
      },
      "execution_count": null,
      "outputs": []
    },
    {
      "cell_type": "markdown",
      "source": [
        "The index of cat is-\n",
        "1\n",
        "\n",
        "\n",
        "\n",
        "\n",
        "\n",
        "Q22- Write a code to check if the element \"banana\" is in the tuple ('apple', 'orange', 'banana').\n",
        "\n"
      ],
      "metadata": {
        "id": "_q20e_28UC7d"
      }
    },
    {
      "cell_type": "code",
      "source": [
        "tuple_5=('apple','orange','banana')\n",
        "print(\"banana\" in tuple_5)\n"
      ],
      "metadata": {
        "id": "f0tafRrfUQK9"
      },
      "execution_count": null,
      "outputs": []
    },
    {
      "cell_type": "code",
      "source": [],
      "metadata": {
        "id": "GT6jNxNMU9_o"
      },
      "execution_count": null,
      "outputs": []
    },
    {
      "cell_type": "markdown",
      "source": [],
      "metadata": {
        "id": "sw8T28MxU_dB"
      }
    },
    {
      "cell_type": "markdown",
      "source": [
        "True\n",
        "\n",
        "\n",
        "\n",
        "\n",
        "\n",
        "\n",
        "Q23- Write a code to create a set with the elements 1, 2, 3, 4, 5 and print it.\n",
        "\n"
      ],
      "metadata": {
        "id": "2VOWB4VmUXYa"
      }
    },
    {
      "cell_type": "code",
      "source": [
        "set_1={1,2,3,4,5}\n",
        "print(set_1)\n"
      ],
      "metadata": {
        "id": "Roc1YvODUa9o"
      },
      "execution_count": null,
      "outputs": []
    },
    {
      "cell_type": "markdown",
      "source": [
        "{1, 2, 3, 4, 5}\n",
        "\n",
        "\n",
        "\n",
        "\n",
        "\n",
        "\n",
        "Q24- Write a code to add the element 6 to the set {1, 2, 3, 4}.\n",
        "\n"
      ],
      "metadata": {
        "id": "CRlMgvb9Ug4u"
      }
    },
    {
      "cell_type": "code",
      "source": [
        "set_2={1,2,3,4}\n",
        "set_2.add(6)\n",
        "print(\"Set after adding 6\")\n",
        "print(set_2)\n"
      ],
      "metadata": {
        "id": "dxpusWC8UkP2"
      },
      "execution_count": null,
      "outputs": []
    },
    {
      "cell_type": "markdown",
      "source": [
        "Set after adding 6\n",
        "{1, 2, 3, 4, 6}"
      ],
      "metadata": {
        "id": "frUv9gErUtHo"
      }
    }
  ]
}